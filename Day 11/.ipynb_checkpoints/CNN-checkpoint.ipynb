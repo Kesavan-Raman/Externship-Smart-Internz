{
 "cells": [
  {
   "cell_type": "raw",
   "metadata": {},
   "source": [
    "1. import the libraries\n",
    "2. image preprocessing\n",
    "        -data sgumentation\n",
    "3. initialize the model\n",
    "4. we wll add convolution layer\n",
    "5. we will pooking\n",
    "6. add flatten\n",
    "7. this input layer\n",
    "8. add hidden layer\n",
    "9. add op layer\n",
    "10. compile the process\n",
    "11. train the data\n",
    "12. save the model\n",
    "13. test the model\n",
    "        - import libraries\n",
    "        - "
   ]
  },
  {
   "cell_type": "code",
   "execution_count": 57,
   "metadata": {},
   "outputs": [],
   "source": [
    "#import the libraries\n",
    "\n",
    "from tensorflow.keras.models import Sequential\n",
    "from tensorflow.keras.layers import Dense, Convolution2D, MaxPooling2D, Flatten\n",
    "import numpy as np"
   ]
  },
  {
   "cell_type": "code",
   "execution_count": 31,
   "metadata": {},
   "outputs": [],
   "source": [
    "#image preprogessing - augumenting the images by applying some more features and rescalign\n",
    "\n",
    "from tensorflow.keras.preprocessing .image import ImageDataGenerator\n",
    "\n",
    "train_datagen = ImageDataGenerator(rescale = 1./255, shear_range = 0.2, zoom_range = 0.2, horizontal_flip = True)\n",
    "test_datagen = ImageDataGenerator(rescale = 1./255)"
   ]
  },
  {
   "cell_type": "code",
   "execution_count": 32,
   "metadata": {},
   "outputs": [
    {
     "name": "stdout",
     "output_type": "stream",
     "text": [
      "Found 1495 images belonging to 5 classes.\n",
      "Found 640 images belonging to 5 classes.\n"
     ]
    }
   ],
   "source": [
    "x_train = train_datagen.flow_from_directory(r'C:\\Users\\Administrator\\Desktop\\Smart Internz\\Day 11\\Crop-animal data\\trainset',target_size = (64,64),batch_size = 32,class_mode = \"categorical\")\n",
    "x_test = test_datagen.flow_from_directory(r'C:\\Users\\Administrator\\Desktop\\Smart Internz\\Day 11\\Crop-animal data\\testset',target_size = (64,64),batch_size = 32,class_mode = \"categorical\")\n"
   ]
  },
  {
   "cell_type": "code",
   "execution_count": 33,
   "metadata": {},
   "outputs": [
    {
     "data": {
      "text/plain": [
       "{'bears': 0, 'crows': 1, 'elephants': 2, 'racoons': 3, 'rats': 4}"
      ]
     },
     "execution_count": 33,
     "metadata": {},
     "output_type": "execute_result"
    }
   ],
   "source": [
    "x_train.class_indices"
   ]
  },
  {
   "cell_type": "code",
   "execution_count": 34,
   "metadata": {},
   "outputs": [],
   "source": [
    "#initilize the model\n",
    "\n",
    "model = Sequential()"
   ]
  },
  {
   "cell_type": "code",
   "execution_count": 35,
   "metadata": {},
   "outputs": [],
   "source": [
    "model.add(Convolution2D(32, (3, 3), input_shape = (64, 64, 3)))"
   ]
  },
  {
   "cell_type": "code",
   "execution_count": 36,
   "metadata": {},
   "outputs": [],
   "source": [
    "model.add(MaxPooling2D(2, 2))"
   ]
  },
  {
   "cell_type": "code",
   "execution_count": 37,
   "metadata": {},
   "outputs": [],
   "source": [
    "model.add(Flatten())"
   ]
  },
  {
   "cell_type": "code",
   "execution_count": 38,
   "metadata": {},
   "outputs": [],
   "source": [
    "#Add hidden layer\n",
    "\n",
    "model.add(Dense(units = 100, kernel_initializer = \"random_uniform\", activation = \"relu\"))\n",
    "model.add(Dense(units = 200, kernel_initializer = \"random_uniform\", activation = \"relu\"))\n",
    "model.add(Dense(units = 150, kernel_initializer = \"random_uniform\", activation = \"relu\"))\n",
    "model.add(Dense(units = 100, kernel_initializer = \"random_uniform\", activation = \"relu\"))\n",
    "\n",
    "model.add(Dense(units = 5, kernel_initializer = \"random_uniform\", activation = \"softmax\"))"
   ]
  },
  {
   "cell_type": "code",
   "execution_count": 39,
   "metadata": {},
   "outputs": [],
   "source": [
    "model.compile(optimizer = \"adam\", loss = \"categorical_crossentropy\", metrics = [\"accuracy\"])"
   ]
  },
  {
   "cell_type": "code",
   "execution_count": 40,
   "metadata": {},
   "outputs": [
    {
     "name": "stdout",
     "output_type": "stream",
     "text": [
      "Epoch 1/10\n",
      "47/46 [==============================] - 7s 148ms/step - loss: 1.5853 - accuracy: 0.2515 - val_loss: 1.3830 - val_accuracy: 0.6031\n",
      "Epoch 2/10\n",
      "47/46 [==============================] - 7s 143ms/step - loss: 1.5307 - accuracy: 0.2863 - val_loss: 1.3517 - val_accuracy: 0.5297\n",
      "Epoch 3/10\n",
      "47/46 [==============================] - 7s 140ms/step - loss: 1.4512 - accuracy: 0.3284 - val_loss: 1.3731 - val_accuracy: 0.5453\n",
      "Epoch 4/10\n",
      "47/46 [==============================] - 7s 138ms/step - loss: 1.3824 - accuracy: 0.3839 - val_loss: 1.0778 - val_accuracy: 0.5562\n",
      "Epoch 5/10\n",
      "47/46 [==============================] - 6s 135ms/step - loss: 1.2131 - accuracy: 0.5064 - val_loss: 1.0824 - val_accuracy: 0.5453\n",
      "Epoch 6/10\n",
      "47/46 [==============================] - 7s 145ms/step - loss: 1.0983 - accuracy: 0.5559 - val_loss: 0.9092 - val_accuracy: 0.6422\n",
      "Epoch 7/10\n",
      "47/46 [==============================] - 7s 139ms/step - loss: 0.9856 - accuracy: 0.6154 - val_loss: 0.9626 - val_accuracy: 0.6469\n",
      "Epoch 8/10\n",
      "47/46 [==============================] - 7s 141ms/step - loss: 0.8461 - accuracy: 0.6843 - val_loss: 0.6157 - val_accuracy: 0.7688\n",
      "Epoch 9/10\n",
      "47/46 [==============================] - 6s 137ms/step - loss: 0.7891 - accuracy: 0.7097 - val_loss: 0.8939 - val_accuracy: 0.6938\n",
      "Epoch 10/10\n",
      "47/46 [==============================] - 7s 152ms/step - loss: 0.7054 - accuracy: 0.7498 - val_loss: 0.5297 - val_accuracy: 0.7969\n"
     ]
    },
    {
     "data": {
      "text/plain": [
       "<tensorflow.python.keras.callbacks.History at 0x2969e7341f0>"
      ]
     },
     "execution_count": 40,
     "metadata": {},
     "output_type": "execute_result"
    }
   ],
   "source": [
    "model.fit_generator(x_train,steps_per_epoch = 1495/32 , epochs = 10 , validation_data = x_test,validation_steps = 640/32)"
   ]
  },
  {
   "cell_type": "code",
   "execution_count": 44,
   "metadata": {},
   "outputs": [],
   "source": [
    "model.save(\"animal.h5\")"
   ]
  },
  {
   "cell_type": "code",
   "execution_count": 42,
   "metadata": {},
   "outputs": [],
   "source": [
    "# Testing the model"
   ]
  },
  {
   "cell_type": "code",
   "execution_count": 45,
   "metadata": {},
   "outputs": [],
   "source": [
    "from tensorflow.keras.models import load_model\n",
    "from tensorflow.keras.preprocessing import image"
   ]
  },
  {
   "cell_type": "code",
   "execution_count": 47,
   "metadata": {},
   "outputs": [],
   "source": [
    "model = load_model(\"animal.h5\")"
   ]
  },
  {
   "cell_type": "code",
   "execution_count": 48,
   "metadata": {},
   "outputs": [],
   "source": [
    "img = image.load_img(\"download.jfif\", target_size = (64, 64))"
   ]
  },
  {
   "cell_type": "code",
   "execution_count": 49,
   "metadata": {},
   "outputs": [],
   "source": [
    "x = image.img_to_array(img)"
   ]
  },
  {
   "cell_type": "code",
   "execution_count": 51,
   "metadata": {},
   "outputs": [
    {
     "data": {
      "text/plain": [
       "numpy.ndarray"
      ]
     },
     "execution_count": 51,
     "metadata": {},
     "output_type": "execute_result"
    }
   ],
   "source": [
    "type(x)"
   ]
  },
  {
   "cell_type": "code",
   "execution_count": 56,
   "metadata": {},
   "outputs": [
    {
     "data": {
      "text/plain": [
       "(64, 64, 3)"
      ]
     },
     "execution_count": 56,
     "metadata": {},
     "output_type": "execute_result"
    }
   ],
   "source": [
    "x.shape"
   ]
  },
  {
   "cell_type": "code",
   "execution_count": 58,
   "metadata": {},
   "outputs": [],
   "source": [
    "x = np.expand_dims(x, axis = 0)"
   ]
  },
  {
   "cell_type": "code",
   "execution_count": 59,
   "metadata": {},
   "outputs": [
    {
     "data": {
      "text/plain": [
       "(1, 64, 64, 3)"
      ]
     },
     "execution_count": 59,
     "metadata": {},
     "output_type": "execute_result"
    }
   ],
   "source": [
    "x.shape"
   ]
  },
  {
   "cell_type": "code",
   "execution_count": 60,
   "metadata": {},
   "outputs": [],
   "source": [
    "import numpy as np\n",
    "\n",
    "pred = np.argmax(model.predict(x))"
   ]
  },
  {
   "cell_type": "code",
   "execution_count": 61,
   "metadata": {},
   "outputs": [
    {
     "data": {
      "text/plain": [
       "2"
      ]
     },
     "execution_count": 61,
     "metadata": {},
     "output_type": "execute_result"
    }
   ],
   "source": [
    "pred"
   ]
  }
 ],
 "metadata": {
  "kernelspec": {
   "display_name": "modeltraining",
   "language": "python",
   "name": "modeltraining"
  },
  "language_info": {
   "codemirror_mode": {
    "name": "ipython",
    "version": 3
   },
   "file_extension": ".py",
   "mimetype": "text/x-python",
   "name": "python",
   "nbconvert_exporter": "python",
   "pygments_lexer": "ipython3",
   "version": "3.8.3"
  }
 },
 "nbformat": 4,
 "nbformat_minor": 4
}

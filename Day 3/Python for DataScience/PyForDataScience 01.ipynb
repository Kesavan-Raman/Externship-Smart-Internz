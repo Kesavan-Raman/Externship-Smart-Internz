{
 "cells": [
  {
   "cell_type": "markdown",
   "metadata": {},
   "source": [
    "# NUMPY"
   ]
  },
  {
   "cell_type": "code",
   "execution_count": null,
   "metadata": {},
   "outputs": [],
   "source": [
    "import numpy as np"
   ]
  },
  {
   "cell_type": "code",
   "execution_count": 2,
   "metadata": {},
   "outputs": [],
   "source": [
    "list = [1, 2, 3, 4, 5]"
   ]
  },
  {
   "cell_type": "code",
   "execution_count": 3,
   "metadata": {},
   "outputs": [],
   "source": [
    "a = np.array(list)"
   ]
  },
  {
   "cell_type": "code",
   "execution_count": 4,
   "metadata": {},
   "outputs": [
    {
     "data": {
      "text/plain": [
       "numpy.ndarray"
      ]
     },
     "execution_count": 4,
     "metadata": {},
     "output_type": "execute_result"
    }
   ],
   "source": [
    "type(a)"
   ]
  },
  {
   "cell_type": "code",
   "execution_count": 5,
   "metadata": {},
   "outputs": [],
   "source": [
    "from numpy import * # Import all classes in the Module"
   ]
  },
  {
   "cell_type": "code",
   "execution_count": 12,
   "metadata": {},
   "outputs": [
    {
     "name": "stdout",
     "output_type": "stream",
     "text": [
      "[1 2 3 4 5]\n"
     ]
    }
   ],
   "source": [
    "print(a) # Basically its a Column Matrix"
   ]
  },
  {
   "cell_type": "code",
   "execution_count": 10,
   "metadata": {},
   "outputs": [
    {
     "data": {
      "text/plain": [
       "(5,)"
      ]
     },
     "execution_count": 10,
     "metadata": {},
     "output_type": "execute_result"
    }
   ],
   "source": [
    "np.shape(a) # or a.shape"
   ]
  },
  {
   "cell_type": "code",
   "execution_count": 13,
   "metadata": {},
   "outputs": [
    {
     "data": {
      "text/plain": [
       "1"
      ]
     },
     "execution_count": 13,
     "metadata": {},
     "output_type": "execute_result"
    }
   ],
   "source": [
    "a.ndim"
   ]
  },
  {
   "cell_type": "code",
   "execution_count": 14,
   "metadata": {},
   "outputs": [
    {
     "data": {
      "text/plain": [
       "5"
      ]
     },
     "execution_count": 14,
     "metadata": {},
     "output_type": "execute_result"
    }
   ],
   "source": [
    "a.size"
   ]
  },
  {
   "cell_type": "code",
   "execution_count": 18,
   "metadata": {},
   "outputs": [
    {
     "data": {
      "text/plain": [
       "1"
      ]
     },
     "execution_count": 18,
     "metadata": {},
     "output_type": "execute_result"
    }
   ],
   "source": [
    "min(a)"
   ]
  },
  {
   "cell_type": "code",
   "execution_count": 19,
   "metadata": {},
   "outputs": [
    {
     "data": {
      "text/plain": [
       "5"
      ]
     },
     "execution_count": 19,
     "metadata": {},
     "output_type": "execute_result"
    }
   ],
   "source": [
    "max(a)"
   ]
  },
  {
   "cell_type": "code",
   "execution_count": 20,
   "metadata": {},
   "outputs": [],
   "source": [
    "listTwo = [\"raja\", \"rahul\", 1, 2, 3, 3.4]"
   ]
  },
  {
   "cell_type": "code",
   "execution_count": 21,
   "metadata": {},
   "outputs": [
    {
     "data": {
      "text/plain": [
       "array(['raja', 'rahul', '1', '2', '3', '3.4'], dtype='<U5')"
      ]
     },
     "execution_count": 21,
     "metadata": {},
     "output_type": "execute_result"
    }
   ],
   "source": [
    "np.array(listTwo)"
   ]
  },
  {
   "cell_type": "code",
   "execution_count": 22,
   "metadata": {},
   "outputs": [
    {
     "data": {
      "text/plain": [
       "list"
      ]
     },
     "execution_count": 22,
     "metadata": {},
     "output_type": "execute_result"
    }
   ],
   "source": [
    "type(listTwo)"
   ]
  },
  {
   "cell_type": "code",
   "execution_count": 23,
   "metadata": {},
   "outputs": [],
   "source": [
    "randomNum = np.array(listTwo)"
   ]
  },
  {
   "cell_type": "code",
   "execution_count": 24,
   "metadata": {},
   "outputs": [
    {
     "data": {
      "text/plain": [
       "numpy.ndarray"
      ]
     },
     "execution_count": 24,
     "metadata": {},
     "output_type": "execute_result"
    }
   ],
   "source": [
    "type(randomNum)"
   ]
  },
  {
   "cell_type": "code",
   "execution_count": 25,
   "metadata": {},
   "outputs": [],
   "source": [
    "# numpy arrays are muttable"
   ]
  },
  {
   "cell_type": "code",
   "execution_count": 26,
   "metadata": {},
   "outputs": [],
   "source": [
    "# Creating a 2D Array\n",
    "\n",
    "twoDarray = [[1, 2, 3], [4, 5, 6], [7, 8, 9], [10, 11, 12]]"
   ]
  },
  {
   "cell_type": "code",
   "execution_count": 27,
   "metadata": {},
   "outputs": [
    {
     "data": {
      "text/plain": [
       "[[1, 2, 3], [4, 5, 6], [7, 8, 9], [10, 11, 12]]"
      ]
     },
     "execution_count": 27,
     "metadata": {},
     "output_type": "execute_result"
    }
   ],
   "source": [
    "twoDarray"
   ]
  },
  {
   "cell_type": "code",
   "execution_count": 28,
   "metadata": {},
   "outputs": [
    {
     "data": {
      "text/plain": [
       "list"
      ]
     },
     "execution_count": 28,
     "metadata": {},
     "output_type": "execute_result"
    }
   ],
   "source": [
    "type(twoDarray)"
   ]
  },
  {
   "cell_type": "code",
   "execution_count": 29,
   "metadata": {},
   "outputs": [],
   "source": [
    "numpytwoDarray = np.array(twoDarray)"
   ]
  },
  {
   "cell_type": "code",
   "execution_count": 30,
   "metadata": {},
   "outputs": [
    {
     "data": {
      "text/plain": [
       "array([[ 1,  2,  3],\n",
       "       [ 4,  5,  6],\n",
       "       [ 7,  8,  9],\n",
       "       [10, 11, 12]])"
      ]
     },
     "execution_count": 30,
     "metadata": {},
     "output_type": "execute_result"
    }
   ],
   "source": [
    "numpytwoDarray"
   ]
  },
  {
   "cell_type": "code",
   "execution_count": 31,
   "metadata": {},
   "outputs": [
    {
     "data": {
      "text/plain": [
       "numpy.ndarray"
      ]
     },
     "execution_count": 31,
     "metadata": {},
     "output_type": "execute_result"
    }
   ],
   "source": [
    "type(numpytwoDarray)"
   ]
  },
  {
   "cell_type": "code",
   "execution_count": 32,
   "metadata": {},
   "outputs": [
    {
     "data": {
      "text/plain": [
       "(4, 3)"
      ]
     },
     "execution_count": 32,
     "metadata": {},
     "output_type": "execute_result"
    }
   ],
   "source": [
    "numpytwoDarray.shape"
   ]
  },
  {
   "cell_type": "code",
   "execution_count": 33,
   "metadata": {},
   "outputs": [
    {
     "data": {
      "text/plain": [
       "2"
      ]
     },
     "execution_count": 33,
     "metadata": {},
     "output_type": "execute_result"
    }
   ],
   "source": [
    "#Checking the number of dimension\n",
    "\n",
    "numpytwoDarray.ndim"
   ]
  },
  {
   "cell_type": "code",
   "execution_count": 35,
   "metadata": {},
   "outputs": [
    {
     "data": {
      "text/plain": [
       "array([ 2,  5,  8, 11])"
      ]
     },
     "execution_count": 35,
     "metadata": {},
     "output_type": "execute_result"
    }
   ],
   "source": [
    "# Accessing the unique column in each row \n",
    "\n",
    "numpytwoDarray[:,1]"
   ]
  },
  {
   "cell_type": "markdown",
   "metadata": {},
   "source": [
    "# TASK 01"
   ]
  },
  {
   "cell_type": "code",
   "execution_count": 43,
   "metadata": {},
   "outputs": [
    {
     "name": "stdout",
     "output_type": "stream",
     "text": [
      "[['Raju', 19, 30000, 'Software Engineer'], ['Anu', 21, 32000, 'Web Developer'], ['Kotis', 23, 34000, 'Marketting Manager'], ['Kesavan', 21, 40000, 'Software Engineer']]\n",
      "<class 'numpy.ndarray'>\n"
     ]
    },
    {
     "data": {
      "text/plain": [
       "array([['Raju', '19', '30000', 'Software Engineer'],\n",
       "       ['Anu', '21', '32000', 'Web Developer'],\n",
       "       ['Kotis', '23', '34000', 'Marketting Manager'],\n",
       "       ['Kesavan', '21', '40000', 'Software Engineer']], dtype='<U18')"
      ]
     },
     "execution_count": 43,
     "metadata": {},
     "output_type": "execute_result"
    }
   ],
   "source": [
    "taskArray = [[\"Raju\", 19, 30000, \"Software Engineer\"], [\"Anu\", 21, 32000, \"Web Developer\"], [\"Kotis\", 23, 34000, \"Marketting Manager\"], [\"Kesavan\", 21, 40000, \"Software Engineer\"]]\n",
    "print(taskArray)\n",
    "temp = np.array(taskArray)\n",
    "print(type(temp))\n",
    "temp"
   ]
  },
  {
   "cell_type": "markdown",
   "metadata": {},
   "source": [
    "# Functions in Numpy"
   ]
  },
  {
   "cell_type": "markdown",
   "metadata": {},
   "source": [
    "1.  Ones\n",
    "2.  Zeros\n",
    "3.  Eye\n",
    "4.  Arrange\n",
    "5.  random.randint\n",
    "6.  random.rand\n",
    "7.  linspace\n",
    "8.  reshape\n",
    "9.  concatenate\n",
    "10. delete\n",
    "11. ravel\n",
    "12. flaten\n"
   ]
  },
  {
   "cell_type": "code",
   "execution_count": 44,
   "metadata": {},
   "outputs": [
    {
     "data": {
      "text/plain": [
       "array([1., 1., 1., 1., 1., 1., 1., 1., 1., 1., 1., 1., 1., 1., 1., 1., 1.,\n",
       "       1., 1., 1., 1., 1., 1., 1., 1., 1., 1., 1., 1., 1., 1., 1., 1., 1.,\n",
       "       1., 1., 1., 1., 1., 1., 1., 1., 1., 1., 1., 1., 1., 1., 1., 1.])"
      ]
     },
     "execution_count": 44,
     "metadata": {},
     "output_type": "execute_result"
    }
   ],
   "source": [
    "# Creates a Single 1D Array with one element with respective specified number\n",
    "\n",
    "np.ones(50)"
   ]
  },
  {
   "cell_type": "code",
   "execution_count": 45,
   "metadata": {},
   "outputs": [
    {
     "data": {
      "text/plain": [
       "array([[0., 0., 0.],\n",
       "       [0., 0., 0.]])"
      ]
     },
     "execution_count": 45,
     "metadata": {},
     "output_type": "execute_result"
    }
   ],
   "source": [
    "np.zeros((2,3))"
   ]
  },
  {
   "cell_type": "code",
   "execution_count": 47,
   "metadata": {},
   "outputs": [
    {
     "data": {
      "text/plain": [
       "array([0, 1, 2, 3, 4, 5, 6, 7, 8, 9])"
      ]
     },
     "execution_count": 47,
     "metadata": {},
     "output_type": "execute_result"
    }
   ],
   "source": [
    "np.arange(10)"
   ]
  },
  {
   "cell_type": "code",
   "execution_count": 48,
   "metadata": {},
   "outputs": [
    {
     "data": {
      "text/plain": [
       "array([10, 11, 12, 13, 14, 15, 16, 17, 18, 19, 20, 21, 22, 23, 24])"
      ]
     },
     "execution_count": 48,
     "metadata": {},
     "output_type": "execute_result"
    }
   ],
   "source": [
    "np.arange(10, 25)"
   ]
  },
  {
   "cell_type": "code",
   "execution_count": 49,
   "metadata": {},
   "outputs": [
    {
     "data": {
      "text/plain": [
       "array([1.        , 1.02040816, 1.04081633, 1.06122449, 1.08163265,\n",
       "       1.10204082, 1.12244898, 1.14285714, 1.16326531, 1.18367347,\n",
       "       1.20408163, 1.2244898 , 1.24489796, 1.26530612, 1.28571429,\n",
       "       1.30612245, 1.32653061, 1.34693878, 1.36734694, 1.3877551 ,\n",
       "       1.40816327, 1.42857143, 1.44897959, 1.46938776, 1.48979592,\n",
       "       1.51020408, 1.53061224, 1.55102041, 1.57142857, 1.59183673,\n",
       "       1.6122449 , 1.63265306, 1.65306122, 1.67346939, 1.69387755,\n",
       "       1.71428571, 1.73469388, 1.75510204, 1.7755102 , 1.79591837,\n",
       "       1.81632653, 1.83673469, 1.85714286, 1.87755102, 1.89795918,\n",
       "       1.91836735, 1.93877551, 1.95918367, 1.97959184, 2.        ])"
      ]
     },
     "execution_count": 49,
     "metadata": {},
     "output_type": "execute_result"
    }
   ],
   "source": [
    "np.linspace(1, 2)"
   ]
  },
  {
   "cell_type": "code",
   "execution_count": 50,
   "metadata": {},
   "outputs": [
    {
     "data": {
      "text/plain": [
       "array([1.        , 1.00436681, 1.00873362, 1.01310044, 1.01746725,\n",
       "       1.02183406, 1.02620087, 1.03056769, 1.0349345 , 1.03930131,\n",
       "       1.04366812, 1.04803493, 1.05240175, 1.05676856, 1.06113537,\n",
       "       1.06550218, 1.069869  , 1.07423581, 1.07860262, 1.08296943,\n",
       "       1.08733624, 1.09170306, 1.09606987, 1.10043668, 1.10480349,\n",
       "       1.10917031, 1.11353712, 1.11790393, 1.12227074, 1.12663755,\n",
       "       1.13100437, 1.13537118, 1.13973799, 1.1441048 , 1.14847162,\n",
       "       1.15283843, 1.15720524, 1.16157205, 1.16593886, 1.17030568,\n",
       "       1.17467249, 1.1790393 , 1.18340611, 1.18777293, 1.19213974,\n",
       "       1.19650655, 1.20087336, 1.20524017, 1.20960699, 1.2139738 ,\n",
       "       1.21834061, 1.22270742, 1.22707424, 1.23144105, 1.23580786,\n",
       "       1.24017467, 1.24454148, 1.2489083 , 1.25327511, 1.25764192,\n",
       "       1.26200873, 1.26637555, 1.27074236, 1.27510917, 1.27947598,\n",
       "       1.28384279, 1.28820961, 1.29257642, 1.29694323, 1.30131004,\n",
       "       1.30567686, 1.31004367, 1.31441048, 1.31877729, 1.3231441 ,\n",
       "       1.32751092, 1.33187773, 1.33624454, 1.34061135, 1.34497817,\n",
       "       1.34934498, 1.35371179, 1.3580786 , 1.36244541, 1.36681223,\n",
       "       1.37117904, 1.37554585, 1.37991266, 1.38427948, 1.38864629,\n",
       "       1.3930131 , 1.39737991, 1.40174672, 1.40611354, 1.41048035,\n",
       "       1.41484716, 1.41921397, 1.42358079, 1.4279476 , 1.43231441,\n",
       "       1.43668122, 1.44104803, 1.44541485, 1.44978166, 1.45414847,\n",
       "       1.45851528, 1.4628821 , 1.46724891, 1.47161572, 1.47598253,\n",
       "       1.48034934, 1.48471616, 1.48908297, 1.49344978, 1.49781659,\n",
       "       1.50218341, 1.50655022, 1.51091703, 1.51528384, 1.51965066,\n",
       "       1.52401747, 1.52838428, 1.53275109, 1.5371179 , 1.54148472,\n",
       "       1.54585153, 1.55021834, 1.55458515, 1.55895197, 1.56331878,\n",
       "       1.56768559, 1.5720524 , 1.57641921, 1.58078603, 1.58515284,\n",
       "       1.58951965, 1.59388646, 1.59825328, 1.60262009, 1.6069869 ,\n",
       "       1.61135371, 1.61572052, 1.62008734, 1.62445415, 1.62882096,\n",
       "       1.63318777, 1.63755459, 1.6419214 , 1.64628821, 1.65065502,\n",
       "       1.65502183, 1.65938865, 1.66375546, 1.66812227, 1.67248908,\n",
       "       1.6768559 , 1.68122271, 1.68558952, 1.68995633, 1.69432314,\n",
       "       1.69868996, 1.70305677, 1.70742358, 1.71179039, 1.71615721,\n",
       "       1.72052402, 1.72489083, 1.72925764, 1.73362445, 1.73799127,\n",
       "       1.74235808, 1.74672489, 1.7510917 , 1.75545852, 1.75982533,\n",
       "       1.76419214, 1.76855895, 1.77292576, 1.77729258, 1.78165939,\n",
       "       1.7860262 , 1.79039301, 1.79475983, 1.79912664, 1.80349345,\n",
       "       1.80786026, 1.81222707, 1.81659389, 1.8209607 , 1.82532751,\n",
       "       1.82969432, 1.83406114, 1.83842795, 1.84279476, 1.84716157,\n",
       "       1.85152838, 1.8558952 , 1.86026201, 1.86462882, 1.86899563,\n",
       "       1.87336245, 1.87772926, 1.88209607, 1.88646288, 1.89082969,\n",
       "       1.89519651, 1.89956332, 1.90393013, 1.90829694, 1.91266376,\n",
       "       1.91703057, 1.92139738, 1.92576419, 1.930131  , 1.93449782,\n",
       "       1.93886463, 1.94323144, 1.94759825, 1.95196507, 1.95633188,\n",
       "       1.96069869, 1.9650655 , 1.96943231, 1.97379913, 1.97816594,\n",
       "       1.98253275, 1.98689956, 1.99126638, 1.99563319, 2.        ])"
      ]
     },
     "execution_count": 50,
     "metadata": {},
     "output_type": "execute_result"
    }
   ],
   "source": [
    "np.linspace(1, 2, 230)"
   ]
  },
  {
   "cell_type": "code",
   "execution_count": 99,
   "metadata": {},
   "outputs": [
    {
     "data": {
      "text/plain": [
       "2"
      ]
     },
     "execution_count": 99,
     "metadata": {},
     "output_type": "execute_result"
    }
   ],
   "source": [
    "np.random.randint(20)"
   ]
  },
  {
   "cell_type": "markdown",
   "metadata": {},
   "source": [
    "# TASK 02"
   ]
  },
  {
   "cell_type": "code",
   "execution_count": null,
   "metadata": {},
   "outputs": [],
   "source": [
    "# Create an array with arrange consist of 16 elements ranging\n",
    "# Create an linspace array with elements ranging between 4,5"
   ]
  },
  {
   "cell_type": "code",
   "execution_count": 101,
   "metadata": {},
   "outputs": [
    {
     "data": {
      "text/plain": [
       "array([ 0,  1,  2,  3,  4,  5,  6,  7,  8,  9, 10, 11, 12, 13, 14, 15])"
      ]
     },
     "execution_count": 101,
     "metadata": {},
     "output_type": "execute_result"
    }
   ],
   "source": [
    "oneArray = np.arange(16)\n",
    "oneArray"
   ]
  },
  {
   "cell_type": "code",
   "execution_count": 103,
   "metadata": {},
   "outputs": [
    {
     "data": {
      "text/plain": [
       "array([4.        , 4.05263158, 4.10526316, 4.15789474, 4.21052632,\n",
       "       4.26315789, 4.31578947, 4.36842105, 4.42105263, 4.47368421,\n",
       "       4.52631579, 4.57894737, 4.63157895, 4.68421053, 4.73684211,\n",
       "       4.78947368, 4.84210526, 4.89473684, 4.94736842, 5.        ])"
      ]
     },
     "execution_count": 103,
     "metadata": {},
     "output_type": "execute_result"
    }
   ],
   "source": [
    "twoArray = np.linspace(4,5,20)\n",
    "twoArray"
   ]
  },
  {
   "cell_type": "code",
   "execution_count": 104,
   "metadata": {},
   "outputs": [
    {
     "data": {
      "text/plain": [
       "array([85, 15, 14, 48, 49, 50, 69, 79, 93])"
      ]
     },
     "execution_count": 104,
     "metadata": {},
     "output_type": "execute_result"
    }
   ],
   "source": [
    "threeArray = np.random.randint(9,95,9)\n",
    "threeArray"
   ]
  },
  {
   "cell_type": "code",
   "execution_count": 107,
   "metadata": {},
   "outputs": [
    {
     "data": {
      "text/plain": [
       "array([[ 0,  1,  2,  3],\n",
       "       [ 4,  5,  6,  7],\n",
       "       [ 8,  9, 10, 11],\n",
       "       [12, 13, 14, 15]])"
      ]
     },
     "execution_count": 107,
     "metadata": {},
     "output_type": "execute_result"
    }
   ],
   "source": [
    "oneArray.reshape(4,4)"
   ]
  },
  {
   "cell_type": "code",
   "execution_count": 110,
   "metadata": {},
   "outputs": [
    {
     "data": {
      "text/plain": [
       "array([[4.        , 4.05263158, 4.10526316, 4.15789474, 4.21052632],\n",
       "       [4.26315789, 4.31578947, 4.36842105, 4.42105263, 4.47368421],\n",
       "       [4.52631579, 4.57894737, 4.63157895, 4.68421053, 4.73684211],\n",
       "       [4.78947368, 4.84210526, 4.89473684, 4.94736842, 5.        ]])"
      ]
     },
     "execution_count": 110,
     "metadata": {},
     "output_type": "execute_result"
    }
   ],
   "source": [
    "twoArray.reshape(4,5)"
   ]
  },
  {
   "cell_type": "code",
   "execution_count": 112,
   "metadata": {},
   "outputs": [
    {
     "data": {
      "text/plain": [
       "array([[85, 15, 14],\n",
       "       [48, 49, 50],\n",
       "       [69, 79, 93]])"
      ]
     },
     "execution_count": 112,
     "metadata": {},
     "output_type": "execute_result"
    }
   ],
   "source": [
    "threeArray.reshape(3,3)"
   ]
  },
  {
   "cell_type": "code",
   "execution_count": 115,
   "metadata": {},
   "outputs": [],
   "source": [
    "# CONCATENATION\n",
    "\n",
    "d = np.concatenate((oneArray, twoArray), axis = 0)"
   ]
  },
  {
   "cell_type": "code",
   "execution_count": 116,
   "metadata": {},
   "outputs": [
    {
     "data": {
      "text/plain": [
       "array([ 0.        ,  1.        ,  2.        ,  3.        ,  4.        ,\n",
       "        5.        ,  6.        ,  7.        ,  8.        ,  9.        ,\n",
       "       10.        , 11.        , 12.        , 13.        , 14.        ,\n",
       "       15.        ,  4.        ,  4.05263158,  4.10526316,  4.15789474,\n",
       "        4.21052632,  4.26315789,  4.31578947,  4.36842105,  4.42105263,\n",
       "        4.47368421,  4.52631579,  4.57894737,  4.63157895,  4.68421053,\n",
       "        4.73684211,  4.78947368,  4.84210526,  4.89473684,  4.94736842,\n",
       "        5.        ])"
      ]
     },
     "execution_count": 116,
     "metadata": {},
     "output_type": "execute_result"
    }
   ],
   "source": [
    "d"
   ]
  },
  {
   "cell_type": "code",
   "execution_count": 122,
   "metadata": {},
   "outputs": [
    {
     "data": {
      "text/plain": [
       "36"
      ]
     },
     "execution_count": 122,
     "metadata": {},
     "output_type": "execute_result"
    }
   ],
   "source": [
    "d.size"
   ]
  },
  {
   "cell_type": "code",
   "execution_count": 120,
   "metadata": {},
   "outputs": [],
   "source": [
    "e = np.delete(d, [1,2], axis = 0)"
   ]
  },
  {
   "cell_type": "code",
   "execution_count": 123,
   "metadata": {},
   "outputs": [
    {
     "data": {
      "text/plain": [
       "34"
      ]
     },
     "execution_count": 123,
     "metadata": {},
     "output_type": "execute_result"
    }
   ],
   "source": [
    "e.size"
   ]
  },
  {
   "cell_type": "code",
   "execution_count": 121,
   "metadata": {},
   "outputs": [
    {
     "data": {
      "text/plain": [
       "array([ 0.        ,  3.        ,  4.        ,  5.        ,  6.        ,\n",
       "        7.        ,  8.        ,  9.        , 10.        , 11.        ,\n",
       "       12.        , 13.        , 14.        , 15.        ,  4.        ,\n",
       "        4.05263158,  4.10526316,  4.15789474,  4.21052632,  4.26315789,\n",
       "        4.31578947,  4.36842105,  4.42105263,  4.47368421,  4.52631579,\n",
       "        4.57894737,  4.63157895,  4.68421053,  4.73684211,  4.78947368,\n",
       "        4.84210526,  4.89473684,  4.94736842,  5.        ])"
      ]
     },
     "execution_count": 121,
     "metadata": {},
     "output_type": "execute_result"
    }
   ],
   "source": [
    "e"
   ]
  },
  {
   "cell_type": "code",
   "execution_count": null,
   "metadata": {},
   "outputs": [],
   "source": []
  },
  {
   "cell_type": "code",
   "execution_count": null,
   "metadata": {},
   "outputs": [],
   "source": []
  },
  {
   "cell_type": "code",
   "execution_count": null,
   "metadata": {},
   "outputs": [],
   "source": []
  },
  {
   "cell_type": "code",
   "execution_count": null,
   "metadata": {},
   "outputs": [],
   "source": []
  },
  {
   "cell_type": "code",
   "execution_count": null,
   "metadata": {},
   "outputs": [],
   "source": []
  },
  {
   "cell_type": "code",
   "execution_count": null,
   "metadata": {},
   "outputs": [],
   "source": []
  }
 ],
 "metadata": {
  "kernelspec": {
   "display_name": "Python 3",
   "language": "python",
   "name": "python3"
  },
  "language_info": {
   "codemirror_mode": {
    "name": "ipython",
    "version": 3
   },
   "file_extension": ".py",
   "mimetype": "text/x-python",
   "name": "python",
   "nbconvert_exporter": "python",
   "pygments_lexer": "ipython3",
   "version": "3.8.3"
  }
 },
 "nbformat": 4,
 "nbformat_minor": 4
}
